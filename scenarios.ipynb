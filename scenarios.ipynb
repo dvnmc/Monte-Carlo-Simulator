{
 "cells": [
  {
   "cell_type": "markdown",
   "id": "a030c6b8-7c74-413b-a897-bfdda7fbc1c8",
   "metadata": {},
   "source": [
    "# Scenario Script"
   ]
  },
  {
   "cell_type": "markdown",
   "id": "01c7ea8f-20b3-456f-84ff-5dc3284096ab",
   "metadata": {},
   "source": [
    "*Author:* Devin McDonald\n",
    "\n",
    "*Computing ID:* djm6cz\n",
    "\n",
    "**Note: Scenario text taken from Final Project on Confluence (created by Rafael Alvarado)**"
   ]
  },
  {
   "cell_type": "code",
   "execution_count": 1,
   "id": "25fa1162-c316-4cb8-b5b5-6de067225a19",
   "metadata": {},
   "outputs": [],
   "source": [
    "import numpy as np\n",
    "import pandas as pd\n",
    "import matplotlib.pyplot as plt\n",
    "\n",
    "from monte_carlo import Die\n",
    "from monte_carlo import Game\n",
    "from monte_carlo import Analyzer"
   ]
  },
  {
   "cell_type": "markdown",
   "id": "943d4edf-8390-473f-834e-3953e2acd3bf",
   "metadata": {},
   "source": [
    "## Scenario 1: A 2-headed coin"
   ]
  },
  {
   "cell_type": "markdown",
   "id": "1c33bf52-f607-4728-8890-a36cbbe5c016",
   "metadata": {},
   "source": [
    "1. Create a fair coin (with faces H and T) and one unfair coin, in which one of the faces has a weight of 5 and the others 1."
   ]
  },
  {
   "cell_type": "code",
   "execution_count": 2,
   "id": "a1860083-7247-4807-874a-c77acb1f2965",
   "metadata": {},
   "outputs": [],
   "source": [
    "fair_coin = Die(['H', 'T'])\n",
    "unfair_coin = Die(['H', 'T'])\n",
    "unfair_coin.change_weight('H', 5)"
   ]
  },
  {
   "cell_type": "markdown",
   "id": "ec6ea021-58df-4718-91cf-4972e78efcfd",
   "metadata": {},
   "source": [
    "*Example docstring (for change_weight method):*"
   ]
  },
  {
   "cell_type": "code",
   "execution_count": 3,
   "id": "3436440e-ecaa-49bf-b9a0-4dcdf0df5678",
   "metadata": {},
   "outputs": [
    {
     "name": "stdout",
     "output_type": "stream",
     "text": [
      "\n",
      "        PURPOSE: change the weight of a single side of a die object\n",
      "    \n",
      "        INPUTS\n",
      "        face_val     int, float, or string      \n",
      "        new_weight   int or float \n",
      "    \n",
      "        OUTPUT\n",
      "        None \n",
      "        \n"
     ]
    }
   ],
   "source": [
    "print(unfair_coin.change_weight.__doc__)"
   ]
  },
  {
   "cell_type": "markdown",
   "id": "d408299d-ac60-46cb-a695-e45f79957b12",
   "metadata": {},
   "source": [
    "2. Play a game of 1000 flips of three coins with all fair dice."
   ]
  },
  {
   "cell_type": "code",
   "execution_count": 4,
   "id": "e3712e05-b9bd-49df-9f70-32bc162191d3",
   "metadata": {},
   "outputs": [],
   "source": [
    "n_tosses = 1000"
   ]
  },
  {
   "cell_type": "code",
   "execution_count": 5,
   "id": "8a7fbb13-03a1-4501-b16f-49d0b125e7cb",
   "metadata": {},
   "outputs": [],
   "source": [
    "fair_game = Game([fair_coin, fair_coin, fair_coin])\n",
    "fair_play = fair_game.play(n_tosses)"
   ]
  },
  {
   "cell_type": "markdown",
   "id": "39a11b76-fe5f-44ba-a10f-d2d8bbb53580",
   "metadata": {},
   "source": [
    "3. Play a game of 1000 flips with two unfair dice and one fair die."
   ]
  },
  {
   "cell_type": "code",
   "execution_count": 6,
   "id": "23c30186-06f9-4bb8-a0fa-30b0cbc14a33",
   "metadata": {},
   "outputs": [],
   "source": [
    "unfair_game = Game([unfair_coin, unfair_coin, fair_coin])\n",
    "unfair_play = unfair_game.play(n_tosses)"
   ]
  },
  {
   "cell_type": "markdown",
   "id": "e2916715-4c6a-42c5-b81c-3d788014ba99",
   "metadata": {},
   "source": [
    "4. For each game, use an Analyzer object to determine the relative frequency of jackpots – getting either all Hs or all Ts."
   ]
  },
  {
   "cell_type": "code",
   "execution_count": 7,
   "id": "ce25575b-223c-4a96-ac37-ab03087d49d9",
   "metadata": {},
   "outputs": [
    {
     "data": {
      "text/plain": [
       "274"
      ]
     },
     "execution_count": 7,
     "metadata": {},
     "output_type": "execute_result"
    }
   ],
   "source": [
    "fair_analysis = Analyzer(fair_game)\n",
    "fair_analysis.jackpot()"
   ]
  },
  {
   "cell_type": "code",
   "execution_count": 8,
   "id": "3c4c28e9-6094-4475-a16d-f4914a7a8901",
   "metadata": {},
   "outputs": [
    {
     "data": {
      "text/plain": [
       "382"
      ]
     },
     "execution_count": 8,
     "metadata": {},
     "output_type": "execute_result"
    }
   ],
   "source": [
    "unfair_analysis = Analyzer(unfair_game)\n",
    "unfair_analysis.jackpot()"
   ]
  },
  {
   "cell_type": "markdown",
   "id": "86684afd-c778-467d-955f-b4678b8dac38",
   "metadata": {},
   "source": [
    "5. Compute relative frequency as the number of jackpots over the total number of rolls."
   ]
  },
  {
   "cell_type": "code",
   "execution_count": 9,
   "id": "b195fe4f-084c-4923-a807-ca486001fcd7",
   "metadata": {},
   "outputs": [],
   "source": [
    "fair_jp_freq = fair_analysis.jackpot() / n_tosses\n",
    "unfair_jp_freq = unfair_analysis.jackpot() / n_tosses"
   ]
  },
  {
   "cell_type": "markdown",
   "id": "84f45ea3-7876-41ae-b2f6-606113051f92",
   "metadata": {},
   "source": [
    "6. Show your results, comparing the two relative frequencies, in a simple bar chart."
   ]
  },
  {
   "cell_type": "code",
   "execution_count": 10,
   "id": "f0439c5f-bbef-4bfa-be20-6a278e130086",
   "metadata": {},
   "outputs": [
    {
     "data": {
      "image/png": "[encoded data removed]",
      "text/plain": [
       "<Figure size 432x288 with 1 Axes>"
      ]
     },
     "metadata": {
      "needs_background": "light"
     },
     "output_type": "display_data"
    }
   ],
   "source": [
    "labels = ['Jackpot Frequency: Fair Coins', 'Jackpot Frequency: Unfair Coins'] \n",
    "freqs = [fair_jp_freq, unfair_jp_freq]\n",
    "\n",
    "plt.bar(labels, freqs)\n",
    "plt.show();"
   ]
  },
  {
   "cell_type": "markdown",
   "id": "8be43959-5da3-4c5e-9593-52acb7a40b6a",
   "metadata": {},
   "source": [
    "## Scenario 2: A 6-sided die"
   ]
  },
  {
   "cell_type": "markdown",
   "id": "95c5804e-a1df-41de-a90f-b1e75c373365",
   "metadata": {},
   "source": [
    "1. Create a fair die and two unfair dice, all of six sides with the faces 1 through 6. One unfair die (Type 1) will weight 6 five times more than the others (i.e. it has weight of 5 and the others a weight of 1 each). The other unfair die (Type 2) will  weight 1 five times more than the others."
   ]
  },
  {
   "cell_type": "code",
   "execution_count": 11,
   "id": "ea0f4f30-106b-4d38-aad0-da0330ce32ea",
   "metadata": {},
   "outputs": [],
   "source": [
    "fair_die = Die([1, 2, 3, 4, 5, 6])\n",
    "unfair_die1 = Die([1, 2, 3, 4, 5, 6])\n",
    "unfair_die2 = Die([1, 2, 3, 4, 5, 6])"
   ]
  },
  {
   "cell_type": "code",
   "execution_count": 12,
   "id": "58519066-b9af-45f7-aeec-e0e79577ffd6",
   "metadata": {},
   "outputs": [],
   "source": [
    "unfair_die1.change_weight(6, 5)\n",
    "unfair_die2.change_weight(1, 5)"
   ]
  },
  {
   "cell_type": "markdown",
   "id": "9b9ab985-5f73-4dd9-9511-1247268561c0",
   "metadata": {},
   "source": [
    "*Example display of current faces and weights for unfair_die1 and unfair_die2*"
   ]
  },
  {
   "cell_type": "code",
   "execution_count": 13,
   "id": "9f2839ac-5eeb-4285-adde-033e8b099297",
   "metadata": {},
   "outputs": [
    {
     "data": {
      "text/html": [
       "<div>\n",
       "<style scoped>\n",
       "    .dataframe tbody tr th:only-of-type {\n",
       "        vertical-align: middle;\n",
       "    }\n",
       "\n",
       "    .dataframe tbody tr th {\n",
       "        vertical-align: top;\n",
       "    }\n",
       "\n",
       "    .dataframe thead th {\n",
       "        text-align: right;\n",
       "    }\n",
       "</style>\n",
       "<table border=\"1\" class=\"dataframe\">\n",
       "  <thead>\n",
       "    <tr style=\"text-align: right;\">\n",
       "      <th></th>\n",
       "      <th>faces</th>\n",
       "      <th>weights</th>\n",
       "    </tr>\n",
       "  </thead>\n",
       "  <tbody>\n",
       "    <tr>\n",
       "      <th>0</th>\n",
       "      <td>1</td>\n",
       "      <td>1.0</td>\n",
       "    </tr>\n",
       "    <tr>\n",
       "      <th>1</th>\n",
       "      <td>2</td>\n",
       "      <td>1.0</td>\n",
       "    </tr>\n",
       "    <tr>\n",
       "      <th>2</th>\n",
       "      <td>3</td>\n",
       "      <td>1.0</td>\n",
       "    </tr>\n",
       "    <tr>\n",
       "      <th>3</th>\n",
       "      <td>4</td>\n",
       "      <td>1.0</td>\n",
       "    </tr>\n",
       "    <tr>\n",
       "      <th>4</th>\n",
       "      <td>5</td>\n",
       "      <td>1.0</td>\n",
       "    </tr>\n",
       "    <tr>\n",
       "      <th>5</th>\n",
       "      <td>6</td>\n",
       "      <td>5.0</td>\n",
       "    </tr>\n",
       "  </tbody>\n",
       "</table>\n",
       "</div>"
      ],
      "text/plain": [
       "   faces  weights\n",
       "0      1      1.0\n",
       "1      2      1.0\n",
       "2      3      1.0\n",
       "3      4      1.0\n",
       "4      5      1.0\n",
       "5      6      5.0"
      ]
     },
     "execution_count": 13,
     "metadata": {},
     "output_type": "execute_result"
    }
   ],
   "source": [
    "unfair_die1.current_faces_and_weights()"
   ]
  },
  {
   "cell_type": "code",
   "execution_count": 14,
   "id": "5a73a0ae-f96f-4f9b-b8d4-349aa56b8c75",
   "metadata": {},
   "outputs": [
    {
     "data": {
      "text/html": [
       "<div>\n",
       "<style scoped>\n",
       "    .dataframe tbody tr th:only-of-type {\n",
       "        vertical-align: middle;\n",
       "    }\n",
       "\n",
       "    .dataframe tbody tr th {\n",
       "        vertical-align: top;\n",
       "    }\n",
       "\n",
       "    .dataframe thead th {\n",
       "        text-align: right;\n",
       "    }\n",
       "</style>\n",
       "<table border=\"1\" class=\"dataframe\">\n",
       "  <thead>\n",
       "    <tr style=\"text-align: right;\">\n",
       "      <th></th>\n",
       "      <th>faces</th>\n",
       "      <th>weights</th>\n",
       "    </tr>\n",
       "  </thead>\n",
       "  <tbody>\n",
       "    <tr>\n",
       "      <th>0</th>\n",
       "      <td>1</td>\n",
       "      <td>5.0</td>\n",
       "    </tr>\n",
       "    <tr>\n",
       "      <th>1</th>\n",
       "      <td>2</td>\n",
       "      <td>1.0</td>\n",
       "    </tr>\n",
       "    <tr>\n",
       "      <th>2</th>\n",
       "      <td>3</td>\n",
       "      <td>1.0</td>\n",
       "    </tr>\n",
       "    <tr>\n",
       "      <th>3</th>\n",
       "      <td>4</td>\n",
       "      <td>1.0</td>\n",
       "    </tr>\n",
       "    <tr>\n",
       "      <th>4</th>\n",
       "      <td>5</td>\n",
       "      <td>1.0</td>\n",
       "    </tr>\n",
       "    <tr>\n",
       "      <th>5</th>\n",
       "      <td>6</td>\n",
       "      <td>1.0</td>\n",
       "    </tr>\n",
       "  </tbody>\n",
       "</table>\n",
       "</div>"
      ],
      "text/plain": [
       "   faces  weights\n",
       "0      1      5.0\n",
       "1      2      1.0\n",
       "2      3      1.0\n",
       "3      4      1.0\n",
       "4      5      1.0\n",
       "5      6      1.0"
      ]
     },
     "execution_count": 14,
     "metadata": {},
     "output_type": "execute_result"
    }
   ],
   "source": [
    "unfair_die2.current_faces_and_weights()"
   ]
  },
  {
   "cell_type": "markdown",
   "id": "192307c6-297c-4904-9e66-281317cdaeab",
   "metadata": {},
   "source": [
    "2. Play a game of 10000 rolls with 5 fair dice."
   ]
  },
  {
   "cell_type": "code",
   "execution_count": 15,
   "id": "9edc57e9-0d4f-41a9-8534-2b6c962e96a9",
   "metadata": {},
   "outputs": [],
   "source": [
    "n_rolls = 10000"
   ]
  },
  {
   "cell_type": "code",
   "execution_count": 16,
   "id": "5e2eee6e-53fa-4008-871c-34b44c1b077f",
   "metadata": {},
   "outputs": [],
   "source": [
    "fair_game = Game([fair_die] * 5)\n",
    "fair_play = fair_game.play(n_rolls)"
   ]
  },
  {
   "cell_type": "markdown",
   "id": "6fabc146-4c82-4e0d-b953-7a76da3b6786",
   "metadata": {},
   "source": [
    "3. Play a game of 10000 rolls with 2 unfair dice of type 1, 1 unfair die of type 2, and the rest fair dice."
   ]
  },
  {
   "cell_type": "code",
   "execution_count": 17,
   "id": "9a1f3b81-5fad-4a74-a52f-cc04c5c4a61f",
   "metadata": {},
   "outputs": [],
   "source": [
    "unfair_game = Game([unfair_die1, unfair_die1, unfair_die2, fair_die, fair_die])\n",
    "unfair_play = unfair_game.play(n_rolls)"
   ]
  },
  {
   "cell_type": "markdown",
   "id": "35ba150c-34ac-4e4f-b05f-f902ac02e91e",
   "metadata": {},
   "source": [
    "4. For each game, use an Analyzer object to determine the relative frequency of jackpots and show your results, comparing the two relative frequencies, in a simple bar chart."
   ]
  },
  {
   "cell_type": "code",
   "execution_count": 18,
   "id": "aa2e7baa-121e-4629-a3e7-4b9ce28849e1",
   "metadata": {},
   "outputs": [],
   "source": [
    "fair_analysis = Analyzer(fair_game)\n",
    "fair_analysis.jackpot()\n",
    "fair_jp_freq = fair_analysis.jackpot() / n_rolls"
   ]
  },
  {
   "cell_type": "code",
   "execution_count": 19,
   "id": "09a3d480-745d-445d-aaca-cdf0345a3fcc",
   "metadata": {},
   "outputs": [],
   "source": [
    "unfair_analysis = Analyzer(unfair_game)\n",
    "unfair_analysis.jackpot()\n",
    "unfair_jp_freq = unfair_analysis.jackpot() / n_rolls"
   ]
  },
  {
   "cell_type": "code",
   "execution_count": 20,
   "id": "3f3f3a36-01a7-4a5c-96c4-b15e552a1c00",
   "metadata": {},
   "outputs": [
    {
     "data": {
      "image/png": "[encoded data removed]",
      "text/plain": [
       "<Figure size 432x288 with 1 Axes>"
      ]
     },
     "metadata": {
      "needs_background": "light"
     },
     "output_type": "display_data"
    }
   ],
   "source": [
    "labels = ['Jackpot Frequency: Fair Dice', 'Jackpot Frequency: Unfair + Fair Dice'] \n",
    "freqs = [fair_jp_freq, unfair_jp_freq]\n",
    "\n",
    "plt.bar(labels, freqs)\n",
    "plt.show();"
   ]
  },
  {
   "cell_type": "markdown",
   "id": "8e65f10e-dcec-406f-929a-ab6d925e9a5f",
   "metadata": {},
   "source": [
    "5. Also compute 10 most frequent combinations of faces for each game. Plot each of these as bar charts."
   ]
  },
  {
   "cell_type": "code",
   "execution_count": 21,
   "id": "99d9805c-0d2e-43c4-8ef6-a2ddeaf61767",
   "metadata": {},
   "outputs": [
    {
     "data": {
      "image/png": "[encoded data removed]",
      "text/plain": [
       "<Figure size 432x288 with 1 Axes>"
      ]
     },
     "metadata": {
      "needs_background": "light"
     },
     "output_type": "display_data"
    }
   ],
   "source": [
    "fair_analysis.combo()\n",
    "labels = fair_analysis.combo_df.nlargest(n=10, columns=['count'])['faces'].to_numpy()\n",
    "labels = [str(x) for x in labels]\n",
    "counts = fair_analysis.combo_df.nlargest(n=10, columns=['count'])['count'].to_numpy()\n",
    "\n",
    "plt.title('Fair Dice Combos')\n",
    "plt.bar(labels, counts)\n",
    "plt.xticks(rotation = 45);"
   ]
  },
  {
   "cell_type": "code",
   "execution_count": 22,
   "id": "71290d71-e411-4bec-91dc-1f009a520c4d",
   "metadata": {},
   "outputs": [
    {
     "data": {
      "image/png": "[encoded data removed]",
      "text/plain": [
       "<Figure size 432x288 with 1 Axes>"
      ]
     },
     "metadata": {
      "needs_background": "light"
     },
     "output_type": "display_data"
    }
   ],
   "source": [
    "unfair_analysis.combo()\n",
    "labels = unfair_analysis.combo_df.nlargest(n=10, columns=['count'])['faces'].to_numpy()\n",
    "labels = [str(x) for x in labels]\n",
    "counts = unfair_analysis.combo_df.nlargest(n=10, columns=['count'])['count'].to_numpy()\n",
    "\n",
    "plt.title('Fair + Unfair Dice Combos')\n",
    "plt.bar(labels, counts)\n",
    "plt.xticks(rotation = 45);"
   ]
  },
  {
   "cell_type": "markdown",
   "id": "0fd7b0e8-7574-4787-9bc2-4cbafd560975",
   "metadata": {},
   "source": [
    "## Scendario 3: Letters of the Roman Alphabet"
   ]
  },
  {
   "cell_type": "markdown",
   "id": "0959957d-df46-4125-994d-1f9158373f0e",
   "metadata": {},
   "source": [
    "1. Create a \"die\" of letters from a to z with weights based on their frequency of usage. See Appendix for these weights."
   ]
  },
  {
   "cell_type": "code",
   "execution_count": 23,
   "id": "1d32d337-d3f4-42b4-a30e-409e01687ab7",
   "metadata": {},
   "outputs": [],
   "source": [
    "alphabet = ['a', 'b', 'c', 'd', 'e', 'f', 'g',\n",
    "            'h', 'i', 'j', 'k', 'l', 'm', 'n', \n",
    "            'o', 'p', 'q', 'r', 's', 't', 'u',\n",
    "            'v', 'w', 'x', 'y', 'z']"
   ]
  },
  {
   "cell_type": "code",
   "execution_count": 24,
   "id": "bb90a73d-d05b-46aa-81e8-36d7186fab3e",
   "metadata": {},
   "outputs": [],
   "source": [
    "weights = [8.4966, 2.0720, 4.5388, 3.3844, 11.1607, 1.8121, 2.4705,\n",
    "           3.0034, 7.5448, 0.1965, 1.1016, 5.4893, 3.0129, 6.6544, \n",
    "           7.1635, 3.1671, 0.1962, 7.5809, 5.7351, 6.9509, 3.6308,\n",
    "           1.0074, 1.2899, 0.2902, 1.7779, 0.2722]"
   ]
  },
  {
   "cell_type": "code",
   "execution_count": 25,
   "id": "c549fbee-69d1-4a2b-9db4-5750263e0ac9",
   "metadata": {},
   "outputs": [],
   "source": [
    "ab_die = Die(alphabet)"
   ]
  },
  {
   "cell_type": "code",
   "execution_count": 26,
   "id": "43998806-097b-4d04-bb10-d8c7fbf26585",
   "metadata": {},
   "outputs": [],
   "source": [
    "for i in range(26):\n",
    "    ab_die.change_weight(alphabet[i], weights[i])"
   ]
  },
  {
   "cell_type": "code",
   "execution_count": 27,
   "id": "48ed0ab6-ba80-4be1-8458-b967027c1266",
   "metadata": {},
   "outputs": [
    {
     "data": {
      "text/html": [
       "<div>\n",
       "<style scoped>\n",
       "    .dataframe tbody tr th:only-of-type {\n",
       "        vertical-align: middle;\n",
       "    }\n",
       "\n",
       "    .dataframe tbody tr th {\n",
       "        vertical-align: top;\n",
       "    }\n",
       "\n",
       "    .dataframe thead th {\n",
       "        text-align: right;\n",
       "    }\n",
       "</style>\n",
       "<table border=\"1\" class=\"dataframe\">\n",
       "  <thead>\n",
       "    <tr style=\"text-align: right;\">\n",
       "      <th></th>\n",
       "      <th>faces</th>\n",
       "      <th>weights</th>\n",
       "    </tr>\n",
       "  </thead>\n",
       "  <tbody>\n",
       "    <tr>\n",
       "      <th>0</th>\n",
       "      <td>a</td>\n",
       "      <td>8.4966</td>\n",
       "    </tr>\n",
       "    <tr>\n",
       "      <th>1</th>\n",
       "      <td>b</td>\n",
       "      <td>2.0720</td>\n",
       "    </tr>\n",
       "    <tr>\n",
       "      <th>2</th>\n",
       "      <td>c</td>\n",
       "      <td>4.5388</td>\n",
       "    </tr>\n",
       "    <tr>\n",
       "      <th>3</th>\n",
       "      <td>d</td>\n",
       "      <td>3.3844</td>\n",
       "    </tr>\n",
       "    <tr>\n",
       "      <th>4</th>\n",
       "      <td>e</td>\n",
       "      <td>11.1607</td>\n",
       "    </tr>\n",
       "  </tbody>\n",
       "</table>\n",
       "</div>"
      ],
      "text/plain": [
       "  faces  weights\n",
       "0     a   8.4966\n",
       "1     b   2.0720\n",
       "2     c   4.5388\n",
       "3     d   3.3844\n",
       "4     e  11.1607"
      ]
     },
     "execution_count": 27,
     "metadata": {},
     "output_type": "execute_result"
    }
   ],
   "source": [
    "ab_die.current_faces_and_weights().head()"
   ]
  },
  {
   "cell_type": "markdown",
   "id": "3bc7cd20-d234-4a61-add1-c6057e2d7ff4",
   "metadata": {},
   "source": [
    "2. Play a game involving 5 of these dice with 1000 rolls."
   ]
  },
  {
   "cell_type": "code",
   "execution_count": 28,
   "id": "bb11c253-eee6-4335-80db-b629048121a9",
   "metadata": {},
   "outputs": [],
   "source": [
    "n_rolls = 1000"
   ]
  },
  {
   "cell_type": "code",
   "execution_count": 29,
   "id": "7f969bb9-5255-4f74-8643-12721ebff14e",
   "metadata": {},
   "outputs": [],
   "source": [
    "word_game = Game([ab_die] * 5)"
   ]
  },
  {
   "cell_type": "code",
   "execution_count": 30,
   "id": "685dbd78-cf3b-45d4-a17b-5e38fa7eb772",
   "metadata": {},
   "outputs": [],
   "source": [
    "word_play = word_game.play(n_rolls)"
   ]
  },
  {
   "cell_type": "code",
   "execution_count": 31,
   "id": "e667d493-bc70-492d-b953-249056103287",
   "metadata": {},
   "outputs": [
    {
     "data": {
      "text/html": [
       "<div>\n",
       "<style scoped>\n",
       "    .dataframe tbody tr th:only-of-type {\n",
       "        vertical-align: middle;\n",
       "    }\n",
       "\n",
       "    .dataframe tbody tr th {\n",
       "        vertical-align: top;\n",
       "    }\n",
       "\n",
       "    .dataframe thead th {\n",
       "        text-align: right;\n",
       "    }\n",
       "</style>\n",
       "<table border=\"1\" class=\"dataframe\">\n",
       "  <thead>\n",
       "    <tr style=\"text-align: right;\">\n",
       "      <th></th>\n",
       "      <th>faces</th>\n",
       "      <th>count</th>\n",
       "    </tr>\n",
       "  </thead>\n",
       "  <tbody>\n",
       "    <tr>\n",
       "      <th>combo 1</th>\n",
       "      <td>(a, a, n, g, g)</td>\n",
       "      <td>1</td>\n",
       "    </tr>\n",
       "    <tr>\n",
       "      <th>combo 2</th>\n",
       "      <td>(a, a, o, a, s)</td>\n",
       "      <td>1</td>\n",
       "    </tr>\n",
       "    <tr>\n",
       "      <th>combo 3</th>\n",
       "      <td>(a, a, o, i, l)</td>\n",
       "      <td>1</td>\n",
       "    </tr>\n",
       "    <tr>\n",
       "      <th>combo 4</th>\n",
       "      <td>(a, a, o, s, n)</td>\n",
       "      <td>1</td>\n",
       "    </tr>\n",
       "    <tr>\n",
       "      <th>combo 5</th>\n",
       "      <td>(a, a, u, e, e)</td>\n",
       "      <td>1</td>\n",
       "    </tr>\n",
       "  </tbody>\n",
       "</table>\n",
       "</div>"
      ],
      "text/plain": [
       "                   faces  count\n",
       "combo 1  (a, a, n, g, g)      1\n",
       "combo 2  (a, a, o, a, s)      1\n",
       "combo 3  (a, a, o, i, l)      1\n",
       "combo 4  (a, a, o, s, n)      1\n",
       "combo 5  (a, a, u, e, e)      1"
      ]
     },
     "execution_count": 31,
     "metadata": {},
     "output_type": "execute_result"
    }
   ],
   "source": [
    "word_analysis = Analyzer(word_game)\n",
    "word_analysis.combo()\n",
    "word_analysis.combo_df.head()"
   ]
  },
  {
   "cell_type": "markdown",
   "id": "333fbd2f-74f6-4973-9aa2-74864164d6e0",
   "metadata": {},
   "source": [
    "3. How many combos can you that look like actual English words?"
   ]
  },
  {
   "cell_type": "markdown",
   "id": "32a40670-f6a4-4ac7-956e-0f7ca38f6e3d",
   "metadata": {},
   "source": [
    "*In order to make this slightly more thorough, I went about this by importing / downloading words from nltk.corpus. I then compared my 5 letter combinations to actual 5 letter words from nltk.corpus.*"
   ]
  },
  {
   "cell_type": "code",
   "execution_count": 32,
   "id": "54e2cc7a-3470-4d24-b041-805f55c2a7af",
   "metadata": {},
   "outputs": [
    {
     "name": "stderr",
     "output_type": "stream",
     "text": [
      "[nltk_data] Downloading package words to\n",
      "[nltk_data]     /Users/devinmcdonald/nltk_data...\n",
      "[nltk_data]   Package words is already up-to-date!\n"
     ]
    },
    {
     "data": {
      "text/plain": [
       "True"
      ]
     },
     "execution_count": 32,
     "metadata": {},
     "output_type": "execute_result"
    }
   ],
   "source": [
    "import nltk\n",
    "from nltk.corpus import words\n",
    "nltk.download('words')"
   ]
  },
  {
   "cell_type": "code",
   "execution_count": 33,
   "id": "fcbe2bf4-cfff-4218-b99c-307e2f5e89b0",
   "metadata": {},
   "outputs": [],
   "source": [
    "possible_words = []\n",
    "for i in word_analysis.combo_df['faces']:\n",
    "    possible_word = ''.join(i)\n",
    "    possible_words.append(possible_word)  "
   ]
  },
  {
   "cell_type": "code",
   "execution_count": 34,
   "id": "072313ab-807a-4c4a-bee7-2683e2d36abd",
   "metadata": {},
   "outputs": [
    {
     "data": {
      "text/plain": [
       "['false', 'order', 'sonic', 'trope']"
      ]
     },
     "execution_count": 34,
     "metadata": {},
     "output_type": "execute_result"
    }
   ],
   "source": [
    "five_letter_words = [x for x in words.words() if len(x) == 5]\n",
    "real_words = [i for i in possible_words if i in five_letter_words]\n",
    "real_words"
   ]
  },
  {
   "cell_type": "code",
   "execution_count": 35,
   "id": "74fbee3e-1b80-4ff1-89fe-16e21a275c01",
   "metadata": {},
   "outputs": [
    {
     "data": {
      "text/plain": [
       "0.004"
      ]
     },
     "execution_count": 35,
     "metadata": {},
     "output_type": "execute_result"
    }
   ],
   "source": [
    "real_word_frequency = len(real_words) / n_rolls\n",
    "real_word_frequency"
   ]
  },
  {
   "cell_type": "markdown",
   "id": "2d18a0e7-9686-4ee2-880c-1ac7c564418f",
   "metadata": {},
   "source": [
    "4. Based on your eye count, what is the relative frequency of these words versus the rest?"
   ]
  },
  {
   "cell_type": "markdown",
   "id": "2bb7eaed-81be-4fdb-8ec7-287ca847236e",
   "metadata": {},
   "source": [
    "*Based on my eye count, the relative frequency of these words versus the rest often came out to be 0.001, which is is typically less than the previouly shown method's frequency.*"
   ]
  },
  {
   "cell_type": "code",
   "execution_count": null,
   "id": "eb3a141c-0fd1-468c-9689-2931d68cdb7d",
   "metadata": {},
   "outputs": [],
   "source": []
  }
 ],
 "metadata": {
  "kernelspec": {
   "display_name": "Python 3 (ipykernel)",
   "language": "python",
   "name": "python3"
  },
  "language_info": {
   "codemirror_mode": {
    "name": "ipython",
    "version": 3
   },
   "file_extension": ".py",
   "mimetype": "text/x-python",
   "name": "python",
   "nbconvert_exporter": "python",
   "pygments_lexer": "ipython3",
   "version": "3.7.12"
  }
 },
 "nbformat": 4,
 "nbformat_minor": 5
}
