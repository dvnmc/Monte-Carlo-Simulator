{
 "cells": [
  {
   "cell_type": "markdown",
   "id": "45762487-d33f-486d-8e38-2cdea04e3528",
   "metadata": {},
   "source": [
    "# Metadata\n",
    "\n",
    "* Title: **Final Project Report**\n",
    "* Class: DS 5100\n",
    "* Date: 7/15/2022\n",
    "* Student Name: Devin McDonald\n",
    "* Student Net ID: djm6cz\n",
    "* This URL: https://github.com/dvnmc/Monte-Carlo-Simulator/blob/main/final-project-submission.ipynb\n",
    "* GitHub Repo URL: https://github.com/dvnmc/Monte-Carlo-Simulator"
   ]
  },
  {
   "cell_type": "markdown",
   "id": "d32cb273-9a40-4909-a7ce-51f6e4958d3c",
   "metadata": {},
   "source": [
    "# The Monte Carlo Module"
   ]
  },
  {
   "cell_type": "code",
   "execution_count": 1,
   "id": "a0743efc-a785-4b5c-a9e6-b65d4507a67f",
   "metadata": {},
   "outputs": [],
   "source": [
    "import numpy as np\n",
    "import pandas as pd\n",
    "from collections import Counter\n",
    "\n",
    "class Die():\n",
    "    '''\n",
    "    This class is used to create a die that has N sides, or “faces”, and W weights. \n",
    "    Additionally, the weights can be changed, and the die can be rolled to select a face.\n",
    "    '''\n",
    "    \n",
    "    def __init__(self, faces):\n",
    "        '''\n",
    "        PURPOSE: initialize a Die object\n",
    "    \n",
    "        INPUTS\n",
    "        faces    array of ints, floats, or strings\n",
    "    \n",
    "        OUTPUT\n",
    "        None\n",
    "        '''\n",
    "        self.faces = faces\n",
    "        self.weights = np.ones(len(self.faces))\n",
    "        self.__privatedf = pd.DataFrame({'faces': self.faces, \n",
    "                                         'weights': self.weights})\n",
    "        \n",
    "    def change_weight(self, face_val, new_weight):\n",
    "        '''\n",
    "        PURPOSE: change the weight of a single side of a die object\n",
    "    \n",
    "        INPUTS\n",
    "        face_val     int, float, or string      \n",
    "        new_weight   int or float \n",
    "    \n",
    "        OUTPUT\n",
    "        None \n",
    "        '''\n",
    "        self.face_val = face_val\n",
    "        try:\n",
    "            self.new_weight = float(new_weight)\n",
    "        except ValueError:\n",
    "            print('Please input a number of type int, float, or str.')\n",
    "        if self.face_val not in self.faces:\n",
    "            return 'This is not a valid face.'\n",
    "        else:\n",
    "            index = self.faces.index(self.face_val)\n",
    "            self.weights[index] = new_weight\n",
    "            self.__privatedf = pd.DataFrame({'faces': self.faces, \n",
    "                                             'weights': self.weights})\n",
    "            \n",
    "    def roll_die(self, n_rolls = 1):\n",
    "        '''\n",
    "        PURPOSE: roll the die one or more times\n",
    "    \n",
    "        INPUTS\n",
    "        n_rolls      int  \n",
    "    \n",
    "        OUTPUT\n",
    "        *not stored* list of ints\n",
    "        '''\n",
    "        self.n_rolls = n_rolls\n",
    "        outcome = self.__privatedf.sample(weights = self.weights).values[0][0]\n",
    "        if type(outcome) == np.float64:\n",
    "            return [int(self.__privatedf.sample(weights = self.weights).\\\n",
    "                values[0][0]) for i in range(self.n_rolls)]\n",
    "        else:\n",
    "            return [self.__privatedf.sample(weights = self.weights).\\\n",
    "                values[0][0]for i in range(self.n_rolls)]\n",
    "    \n",
    "    def current_faces_and_weights(self):\n",
    "        '''\n",
    "        PURPOSE: show the die’s current set of faces and weights\n",
    "    \n",
    "        INPUTS\n",
    "        None\n",
    "    \n",
    "        OUTPUT\n",
    "        *private*  pd.DataFrame\n",
    "        '''\n",
    "        return self.__privatedf\n",
    "    \n",
    "    \n",
    "class Game():\n",
    "    '''\n",
    "    This class is used to create a game that consists of rolling of one or more dice of the same kind. \n",
    "    The dice can be rolled one or more times. \n",
    "    '''\n",
    "    \n",
    "    def __init__(self, dice):\n",
    "        '''\n",
    "        PURPOSE: initialize a Game object \n",
    "    \n",
    "        INPUTS\n",
    "        dice     list of already instantiated similar Die objects\n",
    "    \n",
    "        OUTPUT\n",
    "        None\n",
    "        '''\n",
    "        self.dice = dice\n",
    "        for i in range(len(self.dice)):\n",
    "            first = sorted(self.dice[0].current_faces_and_weights()['faces'].to_numpy())\n",
    "            rest = sorted(self.dice[i].current_faces_and_weights()['faces'].to_numpy())\n",
    "            if rest == first:\n",
    "                self.dice = dice\n",
    "            else:\n",
    "                raise Exception('Please input dice with equivalent faces.')\n",
    "                self.dice = []\n",
    "        \n",
    "    def play(self, n_rolls):\n",
    "        '''\n",
    "        PURPOSE: roll the dice a specified number of times\n",
    "    \n",
    "        INPUTS\n",
    "        n_rolls  int\n",
    "    \n",
    "        OUTPUT\n",
    "        None\n",
    "        '''\n",
    "        self.n_rolls = n_rolls\n",
    "        outcomes = np.array([die.roll_die(n_rolls) for die in self.dice])\n",
    "        index_labels = ['roll ' + str(x + 1) for x in range(n_rolls)]\n",
    "        self.__privatedf = pd.DataFrame(index = index_labels)\n",
    "        for i in range(len(self.dice)):\n",
    "            self.__privatedf['die ' + str(i + 1)] = outcomes[i]\n",
    "                  \n",
    "    def show(self, wide_or_narrow = 'wide'):\n",
    "        '''\n",
    "        PURPOSE: show the user the results of the most recent play\n",
    "        \n",
    "        INPUTS\n",
    "        wide_or_narrow   str (either \"wide\" or \"narrow\")\n",
    "    \n",
    "        OUTPUT           \n",
    "        *private*        pd.DataFrame (either stacked or unstacked)        \n",
    "        '''\n",
    "        self.wide_or_narrow = wide_or_narrow\n",
    "        if self.wide_or_narrow == 'wide':\n",
    "            return self.__privatedf\n",
    "        elif self.wide_or_narrow == 'narrow':\n",
    "            return self.__privatedf.stack().to_frame('face')\n",
    "        else:\n",
    "            raise Exception('Enter either \"wide\" or \"narrow\" (defaults to \"wide\")')\n",
    "            \n",
    "\n",
    "class Analyzer():\n",
    "    '''\n",
    "    This class takes the results of a single game and computes various descriptive statistical properties.\n",
    "    '''\n",
    "    \n",
    "    def __init__(self, game):\n",
    "        '''\n",
    "        PURPOSE: initialize an Analyzer object\n",
    "\n",
    "        INPUTS\n",
    "        game     already instantiated Game object\n",
    "\n",
    "        OUTPUT\n",
    "        None\n",
    "        '''\n",
    "        self.game = game\n",
    "    \n",
    "    def jackpot(self):\n",
    "        '''\n",
    "        PURPOSE: compute how many times the game resulted in all identical faces\n",
    "    \n",
    "        INPUTS\n",
    "        None\n",
    "    \n",
    "        OUTPUT\n",
    "        total_jackpots   int\n",
    "        '''\n",
    "        jackpots = []\n",
    "        rows = []\n",
    "        for i in range(len(self.game.show())):\n",
    "            row = list(self.game.show().iloc[i])\n",
    "            rows.append(row)\n",
    "            if len(set(rows[i])) == 1:\n",
    "                jackpots.append(1)\n",
    "            else:\n",
    "                jackpots.append(0)\n",
    "        index_labels = ['roll ' + str(x + 1) for x in range(self.game.n_rolls)]\n",
    "        self.jackpot_df = pd.DataFrame(index = index_labels)\n",
    "        self.jackpot_df['jackpot'] = jackpots\n",
    "        self.total_jackpots = len([x for x in jackpots if x == 1])\n",
    "        return self.total_jackpots\n",
    "        \n",
    "    def combo(self):\n",
    "        '''\n",
    "        PURPOSE: compute the distinct combinations of faces rolled, along with their counts\n",
    "    \n",
    "        INPUTS\n",
    "        None\n",
    "    \n",
    "        OUTPUT\n",
    "        None\n",
    "        '''\n",
    "        rows = sorted([tuple(self.game.show().iloc[x]) for x in range(self.game.n_rolls)])\n",
    "        combo_keys = Counter(rows).keys()\n",
    "        count_vals = Counter(rows).values()\n",
    "        self.combo_df = pd.DataFrame({\n",
    "            'faces': combo_keys, \n",
    "            'count': count_vals})\n",
    "        index_labels = ['combo ' + str(x + 1) for x in range(len(combo_keys))]\n",
    "        self.combo_df.index = index_labels\n",
    "    \n",
    "    def face_counts(self):\n",
    "        '''\n",
    "        PURPOSE: compute how many times a given face is rolled in each event\n",
    "    \n",
    "        INPUTS\n",
    "        None\n",
    "    \n",
    "        OUTPUT\n",
    "        None\n",
    "        '''\n",
    "        rows = [list(self.game.show().iloc[x]) for x in range(self.game.n_rolls)]\n",
    "        index_labels = ['roll ' + str(x + 1) for x in range(self.game.n_rolls)]\n",
    "        count = [Counter(x) for x in rows]\n",
    "        self.face_counts_df = pd.DataFrame.from_dict(count)\n",
    "        self.face_counts_df.index = index_labels\n",
    "        self.face_counts_df = self.face_counts_df.fillna(0)\n",
    "        columns_sorted = sorted(self.face_counts_df.columns)\n",
    "        self.face_counts_df = self.face_counts_df.reindex(columns=columns_sorted)\n",
    "        for i in range(len(columns_sorted)):\n",
    "            self.face_counts_df[i+1] = self.face_counts_df[i+1].apply(np.int64)\n",
    "        faces = ['faces']\n",
    "        self.face_counts_df.columns = pd.MultiIndex.from_tuples(\n",
    "            list(zip(faces*len(columns_sorted), columns_sorted)))"
   ]
  },
  {
   "cell_type": "markdown",
   "id": "4c81c4f0-b6ff-46ab-ba2c-9de7f0179715",
   "metadata": {},
   "source": [
    "# Test Module"
   ]
  },
  {
   "cell_type": "code",
   "execution_count": 2,
   "id": "14b878d8-258b-4cf2-ad88-b8ee90d43977",
   "metadata": {},
   "outputs": [],
   "source": [
    "import unittest\n",
    "\n",
    "class MonteCarloTestSuite(unittest.TestCase):\n",
    "    '''\n",
    "    This class is used to apply the unittest unit testing framework to each method in \n",
    "    each class of the monte_carlo.py file.\n",
    "    '''\n",
    "    \n",
    "    def test_init_Die(self):\n",
    "        '''\n",
    "        PURPOSE: ensure Die object is initialized correctly \n",
    "    \n",
    "        INPUTS\n",
    "        None\n",
    "    \n",
    "        OUTPUT\n",
    "        None\n",
    "        '''\n",
    "        die = Die([1,2,3,4,5,6])\n",
    "        weights = die.weights\n",
    "        expected = np.ones(6)\n",
    "        self.assertTrue((weights == expected)[0])\n",
    "    \n",
    "    def test_change_weight_invalid(self):\n",
    "        '''\n",
    "        PURPOSE: test whether change_weight method informs the user when \n",
    "        attempting to change the weight of an invalid face\n",
    "    \n",
    "        INPUTS\n",
    "        None\n",
    "    \n",
    "        OUTPUT\n",
    "        None\n",
    "        '''\n",
    "        die = Die([1,2,3,4,5,6])\n",
    "        die_new_weight = die.change_weight(12,5)\n",
    "        expected = 'This is not a valid face.'\n",
    "        self.assertEqual(die_new_weight, expected)\n",
    "        \n",
    "    def test_change_weight_valid(self):\n",
    "        '''\n",
    "        PURPOSE: test whether change_weight method operates correctly \n",
    "        and returns None when changing the weight of a valid face\n",
    "    \n",
    "        INPUTS\n",
    "        None\n",
    "    \n",
    "        OUTPUT\n",
    "        None\n",
    "        '''\n",
    "        die = Die([1,2,3,4,5,6])\n",
    "        die_new_weight = die.change_weight(1,5)\n",
    "        expected = None\n",
    "        self.assertEqual(die_new_weight, expected)\n",
    "        \n",
    "    def test_roll_die(self):\n",
    "        '''\n",
    "        PURPOSE: test whether roll_die method operates correctly \n",
    "        and returns a list with length equal to n_rolls\n",
    "    \n",
    "        INPUTS\n",
    "        None\n",
    "    \n",
    "        OUTPUT\n",
    "        None\n",
    "        '''\n",
    "        die = Die(['H', 'T'])\n",
    "        outcome = die.roll_die(10)\n",
    "        expected = len(range(10))\n",
    "        self.assertEqual(len(outcome), expected)\n",
    "    \n",
    "    def test_current_faces_and_weights(self):\n",
    "        '''\n",
    "        PURPOSE: test whether current_faces_and_weights method \n",
    "        operates correctly and returns a pandas DataFrame\n",
    "    \n",
    "        INPUTS\n",
    "        None\n",
    "    \n",
    "        OUTPUT\n",
    "        None\n",
    "        '''\n",
    "        die1 = Die(['H', 'T'])\n",
    "        die2 = Die([1,2,3,4,5,6])\n",
    "        die1_faces_and_weights = die1.current_faces_and_weights\n",
    "        die2_faces_and_weights = die2.current_faces_and_weights\n",
    "        expected1 = (type(die1_faces_and_weights) == type(die2_faces_and_weights))\n",
    "        expected2 = (type(die1_faces_and_weights) == pd.core.frame.DataFrame)\n",
    "        self.assertEqual(True, expected1, expected2)\n",
    "        \n",
    "    \n",
    "    \n",
    "    def test_init_Game(self):\n",
    "        '''\n",
    "        PURPOSE: ensure Game object is initialized correctly \n",
    "    \n",
    "        INPUTS\n",
    "        None\n",
    "    \n",
    "        OUTPUT\n",
    "        None\n",
    "        '''\n",
    "        die1 = Die([1,2,3,4,5,6])\n",
    "        die2 = Die(['H', 'T'])\n",
    "        self.assertRaises(Exception, lambda: Game([die1, die1, die2]))\n",
    "    \n",
    "    def test_play(self):\n",
    "        '''\n",
    "        PURPOSE: test whether play method operates correctly and \n",
    "        returns None\n",
    "    \n",
    "        INPUTS\n",
    "        None\n",
    "    \n",
    "        OUTPUT\n",
    "        None\n",
    "        '''\n",
    "        die = Die([1,2,3,4,5,6])\n",
    "        game = Game([die, die, die])\n",
    "        play = game.play(20)\n",
    "        expected = None\n",
    "        self.assertEqual(play, expected)\n",
    "        \n",
    "    def test_show_invalid(self):\n",
    "        '''\n",
    "        PURPOSE: test whether show method raises an exception to the \n",
    "        user when incorrectly attempting to specify how the DataFrame\n",
    "        should be returned (i.e., when inputting something other than \n",
    "        \"wide\"or \"narrow\")\n",
    "    \n",
    "        INPUTS\n",
    "        None\n",
    "    \n",
    "        OUTPUT\n",
    "        None\n",
    "        '''\n",
    "        die = Die([1,2,3,4,5,6])\n",
    "        game = Game([die, die, die])\n",
    "        play = game.play(20)\n",
    "        self.assertRaises(Exception, lambda: game.show('invalid'))\n",
    "        \n",
    "    def test_show_valid(self):\n",
    "        '''\n",
    "        PURPOSE: test whether show method operates correctly and returns\n",
    "        a pandas DataFrame when correctly specifying how the DataFrame\n",
    "        should be returned (in this case as \"narrow)\n",
    "    \n",
    "        INPUTS\n",
    "        None\n",
    "    \n",
    "        OUTPUT\n",
    "        None\n",
    "        '''\n",
    "        die = Die([1,2,3,4,5,6])\n",
    "        game = Game([die, die, die])\n",
    "        play = game.play(20)\n",
    "        df = type(game.show('narrow'))\n",
    "        expected = pd.core.frame.DataFrame\n",
    "        self.assertEqual(df, expected)\n",
    "        \n",
    "        \n",
    "        \n",
    "    def test_init_Analyzer(self):\n",
    "        '''\n",
    "        PURPOSE: ensure Analyzer object is initialized correctly \n",
    "    \n",
    "        INPUTS\n",
    "        None\n",
    "    \n",
    "        OUTPUT\n",
    "        None\n",
    "        '''\n",
    "        die = Die([1,2,3,4,5,6])\n",
    "        game = Game([die, die, die])\n",
    "        play = game.play(20)\n",
    "        analysis = Analyzer(game)\n",
    "        self.assertTrue(str(type(analysis.__init__(game))) == \"<class 'NoneType'>\")\n",
    "    \n",
    "    def test_jackpot(self):\n",
    "        '''\n",
    "        PURPOSE: test whether jackpot method operates correctly and allows the \n",
    "        user to access the jackpot_df pandas DataFrame as a public attribute\n",
    "    \n",
    "        INPUTS\n",
    "        None\n",
    "    \n",
    "        OUTPUT\n",
    "        None\n",
    "        '''\n",
    "        die = Die([1,2,3,4,5,6])\n",
    "        game = Game([die, die, die])\n",
    "        play = game.play(20)\n",
    "        analysis = Analyzer(game)\n",
    "        analysis.jackpot()\n",
    "        df = type(analysis.jackpot_df)\n",
    "        expected = pd.core.frame.DataFrame\n",
    "        self.assertEqual(df, expected)\n",
    "        \n",
    "    def test_combo(self):\n",
    "        '''\n",
    "        PURPOSE: test whether combo method operates correctly and allows the \n",
    "        user to access the combo_df pandas DataFrame as a public attribute\n",
    "    \n",
    "        INPUTS\n",
    "        None\n",
    "    \n",
    "        OUTPUT\n",
    "        None\n",
    "        '''\n",
    "        die = Die([1,2,3,4,5,6])\n",
    "        game = Game([die, die, die])\n",
    "        play = game.play(20)\n",
    "        analysis = Analyzer(game)\n",
    "        analysis.combo()\n",
    "        df = type(analysis.combo_df)\n",
    "        expected = pd.core.frame.DataFrame\n",
    "        self.assertEqual(df, expected)\n",
    "        \n",
    "        \n",
    "    def test_face_counts(self):\n",
    "        '''\n",
    "        PURPOSE: test whether face_counts method operates correctly and allows the \n",
    "        user to access the face_counts_df pandas DataFrame as a public attribute\n",
    "    \n",
    "        INPUTS\n",
    "        None\n",
    "    \n",
    "        OUTPUT\n",
    "        None\n",
    "        '''\n",
    "        die = Die([1,2,3,4,5,6])\n",
    "        game = Game([die, die, die])\n",
    "        play = game.play(20)\n",
    "        analysis = Analyzer(game)\n",
    "        analysis.face_counts()\n",
    "        df = type(analysis.face_counts_df)\n",
    "        expected = pd.core.frame.DataFrame\n",
    "        self.assertEqual(df, expected)\n",
    "        \n",
    "# Running the following raises an error in a jupyter notebook:       \n",
    "        \n",
    "# if __name__ == '__main__':\n",
    "#     unittest.main(verbosity=3)\n",
    "\n",
    "# It is included as normal code in the unit_tests.py file"
   ]
  },
  {
   "cell_type": "markdown",
   "id": "3c2b90b6-ac8b-43fa-a069-cb5b0b22aee0",
   "metadata": {},
   "source": [
    "# Test Results"
   ]
  },
  {
   "cell_type": "markdown",
   "id": "7e5c67a4-67d2-40c6-9817-7b858f81ba79",
   "metadata": {},
   "source": [
    "I commented out the results (uploading this cell to GitHub as raw did not work well):"
   ]
  },
  {
   "cell_type": "code",
   "execution_count": 3,
   "id": "a918592f-7a07-4ec4-a7d0-7f3d7628e479",
   "metadata": {},
   "outputs": [],
   "source": [
    "# test_change_weight_invalid (__main__.MonteCarloTestSuite)\n",
    "# PURPOSE: test whether change_weight method informs the user when ... ok\n",
    "# test_change_weight_valid (__main__.MonteCarloTestSuite)\n",
    "# PURPOSE: test whether change_weight method operates correctly ... ok\n",
    "# test_combo (__main__.MonteCarloTestSuite)\n",
    "# PURPOSE: test whether combo method operates correctly and allows the ... ok\n",
    "# test_current_faces_and_weights (__main__.MonteCarloTestSuite)\n",
    "# PURPOSE: test whether current_faces_and_weights method ... ok\n",
    "# test_face_counts (__main__.MonteCarloTestSuite)\n",
    "# PURPOSE: test whether face_counts method operates correctly and allows the ... ok\n",
    "# test_init_Analyzer (__main__.MonteCarloTestSuite)\n",
    "# PURPOSE: ensure Analyzer object is initialized correctly ... ok\n",
    "# test_init_Die (__main__.MonteCarloTestSuite)\n",
    "# PURPOSE: ensure Die object is initialized correctly ... ok\n",
    "# test_init_Game (__main__.MonteCarloTestSuite)\n",
    "# PURPOSE: ensure Game object is initialized correctly ... ok\n",
    "# test_jackpot (__main__.MonteCarloTestSuite)\n",
    "# PURPOSE: test whether jackpot method operates correctly and allows the ... ok\n",
    "# test_play (__main__.MonteCarloTestSuite)\n",
    "# PURPOSE: test whether play method operates correctly and ... ok\n",
    "# test_roll_die (__main__.MonteCarloTestSuite)\n",
    "# PURPOSE: test whether roll_die method operates correctly ... ok\n",
    "# test_show_invalid (__main__.MonteCarloTestSuite)\n",
    "# PURPOSE: test whether show method raises an exception to the ... ok\n",
    "# test_show_valid (__main__.MonteCarloTestSuite)\n",
    "# PURPOSE: test whether show method operates correctly and returns ... ok\n",
    "\n",
    "# ----------------------------------------------------------------------\n",
    "# Ran 13 tests in 0.266s\n",
    "\n",
    "# OK"
   ]
  },
  {
   "cell_type": "markdown",
   "id": "7c44695d-d1b3-4edf-9f94-e64d7446f199",
   "metadata": {},
   "source": [
    "# Scenarios\n",
    "\n",
    "Code blocks with your scenarios and their outputs. \n",
    "\n",
    "These should have appropriate import statements even though the code is now in the same notebook as the classes it calls. "
   ]
  },
  {
   "cell_type": "code",
   "execution_count": 4,
   "id": "53634e9c-6276-4890-bc06-84481b58fe09",
   "metadata": {},
   "outputs": [],
   "source": [
    "import os\n",
    "path = os.path.expanduser('~/Desktop/Monte-Carlo-Simulator/src')\n",
    "os.chdir(path)"
   ]
  },
  {
   "cell_type": "code",
   "execution_count": 5,
   "id": "0b116471-39b2-4c8b-9e6e-5e7347a1147f",
   "metadata": {},
   "outputs": [],
   "source": [
    "import matplotlib.pyplot as plt\n",
    "\n",
    "from monte_carlo import Die\n",
    "from monte_carlo import Game\n",
    "from monte_carlo import Analyzer"
   ]
  },
  {
   "cell_type": "markdown",
   "id": "90b7abd8-f4a7-4d71-bc9a-746640516b98",
   "metadata": {},
   "source": [
    "## Scenario 1"
   ]
  },
  {
   "cell_type": "markdown",
   "id": "9c0c7cf3-fc73-4573-8ba2-eba507580d27",
   "metadata": {},
   "source": [
    "Create a fair coin (with faces H and T) and one unfair coin, in which one of the faces has a weight of 5 and the others 1."
   ]
  },
  {
   "cell_type": "code",
   "execution_count": 6,
   "id": "815eae36-4357-442a-894e-d056ebb8f998",
   "metadata": {},
   "outputs": [],
   "source": [
    "fair_coin = Die(['H', 'T'])\n",
    "unfair_coin = Die(['H', 'T'])\n",
    "unfair_coin.change_weight('H', 5)"
   ]
  },
  {
   "cell_type": "markdown",
   "id": "c8e6c9e2-252b-450d-ab0f-f876ab66abcf",
   "metadata": {},
   "source": [
    "*Example docstring (for change_weight method):*"
   ]
  },
  {
   "cell_type": "code",
   "execution_count": 7,
   "id": "abd2ec52-75d9-40eb-be2d-4fd90311aac3",
   "metadata": {},
   "outputs": [
    {
     "name": "stdout",
     "output_type": "stream",
     "text": [
      "\n",
      "        PURPOSE: change the weight of a single side of a die object\n",
      "    \n",
      "        INPUTS\n",
      "        face_val     int, float, or string      \n",
      "        new_weight   int or float \n",
      "    \n",
      "        OUTPUT\n",
      "        None \n",
      "        \n"
     ]
    }
   ],
   "source": [
    "print(unfair_coin.change_weight.__doc__)"
   ]
  },
  {
   "cell_type": "markdown",
   "id": "1d626cfd-bb1c-4631-bdf1-fa6dfea0916d",
   "metadata": {},
   "source": [
    "Play a game of 1000 flips of three coins with all fair dice."
   ]
  },
  {
   "cell_type": "code",
   "execution_count": 8,
   "id": "f872660f-f1ba-4c17-a211-d18c091f6104",
   "metadata": {},
   "outputs": [],
   "source": [
    "n_tosses = 1000"
   ]
  },
  {
   "cell_type": "code",
   "execution_count": 9,
   "id": "0bc6c5ed-94d2-4ec8-ae5c-7d7d064f07ca",
   "metadata": {},
   "outputs": [],
   "source": [
    "fair_game = Game([fair_coin, fair_coin, fair_coin])\n",
    "fair_play = fair_game.play(n_tosses)"
   ]
  },
  {
   "cell_type": "markdown",
   "id": "e77e991e-0f78-44ce-a355-513a6de8d849",
   "metadata": {},
   "source": [
    "Play a game of 1000 flips with two unfair dice and one fair die."
   ]
  },
  {
   "cell_type": "code",
   "execution_count": 10,
   "id": "2d623b5c-4d4d-4183-9034-aaa325b61ab5",
   "metadata": {},
   "outputs": [],
   "source": [
    "unfair_game = Game([unfair_coin, unfair_coin, fair_coin])\n",
    "unfair_play = unfair_game.play(n_tosses)"
   ]
  },
  {
   "cell_type": "markdown",
   "id": "f788566e-0ff8-47f0-864c-7d96a1545c30",
   "metadata": {},
   "source": [
    "For each game, use an Analyzer object to determine the relative frequency of jackpots – getting either all Hs or all Ts."
   ]
  },
  {
   "cell_type": "code",
   "execution_count": 11,
   "id": "97043e6c-0dce-471f-826d-41dd7bc12e69",
   "metadata": {},
   "outputs": [
    {
     "data": {
      "text/plain": [
       "255"
      ]
     },
     "execution_count": 11,
     "metadata": {},
     "output_type": "execute_result"
    }
   ],
   "source": [
    "fair_analysis = Analyzer(fair_game)\n",
    "fair_analysis.jackpot()"
   ]
  },
  {
   "cell_type": "code",
   "execution_count": 12,
   "id": "bae35431-66d8-4f14-8145-b38a3cc2e4e4",
   "metadata": {},
   "outputs": [
    {
     "data": {
      "text/plain": [
       "345"
      ]
     },
     "execution_count": 12,
     "metadata": {},
     "output_type": "execute_result"
    }
   ],
   "source": [
    "unfair_analysis = Analyzer(unfair_game)\n",
    "unfair_analysis.jackpot()"
   ]
  },
  {
   "cell_type": "markdown",
   "id": "cb1b121c-5f58-41f3-9512-f1abba821c8e",
   "metadata": {},
   "source": [
    "Compute relative frequency as the number of jackpots over the total number of rolls."
   ]
  },
  {
   "cell_type": "code",
   "execution_count": 13,
   "id": "ec68756a-ead5-436d-aa62-4ee523f00248",
   "metadata": {},
   "outputs": [],
   "source": [
    "fair_jp_freq = fair_analysis.jackpot() / n_tosses\n",
    "unfair_jp_freq = unfair_analysis.jackpot() / n_tosses"
   ]
  },
  {
   "cell_type": "markdown",
   "id": "53dfa801-fcb7-48c7-b9d7-eb3c07cf3481",
   "metadata": {},
   "source": [
    "Show your results, comparing the two relative frequencies, in a simple bar chart."
   ]
  },
  {
   "cell_type": "code",
   "execution_count": 14,
   "id": "ed67bef3-b8b5-47ef-b264-2a3b5187426f",
   "metadata": {},
   "outputs": [
    {
     "data": {
      "image/png": "[encoded data removed]",
      "text/plain": [
       "<Figure size 432x288 with 1 Axes>"
      ]
     },
     "metadata": {
      "needs_background": "light"
     },
     "output_type": "display_data"
    }
   ],
   "source": [
    "labels = ['Jackpot Frequency: Fair Coins', 'Jackpot Frequency: Unfair Coins'] \n",
    "freqs = [fair_jp_freq, unfair_jp_freq]\n",
    "\n",
    "plt.bar(labels, freqs)\n",
    "plt.show();"
   ]
  },
  {
   "cell_type": "markdown",
   "id": "92793a09-0024-465d-b272-2ef8b9a6c21c",
   "metadata": {},
   "source": [
    "## Scenario 2"
   ]
  },
  {
   "cell_type": "markdown",
   "id": "15317745-3344-42bc-b30c-190c7ff613bd",
   "metadata": {},
   "source": [
    "Create a fair die and two unfair dice, all of six sides with the faces 1 through 6. One unfair die (Type 1) will weight 6 five times more than the others (i.e. it has weight of 5 and the others a weight of 1 each). The other unfair die (Type 2) will  weight 1 five times more than the others."
   ]
  },
  {
   "cell_type": "code",
   "execution_count": 15,
   "id": "ffad3292-bd06-47b4-84c5-7747182d41e3",
   "metadata": {},
   "outputs": [],
   "source": [
    "fair_die = Die([1, 2, 3, 4, 5, 6])\n",
    "unfair_die1 = Die([1, 2, 3, 4, 5, 6])\n",
    "unfair_die2 = Die([1, 2, 3, 4, 5, 6])"
   ]
  },
  {
   "cell_type": "code",
   "execution_count": 16,
   "id": "0478884f-bf8b-4426-a509-6e3c79c2db84",
   "metadata": {},
   "outputs": [],
   "source": [
    "unfair_die1.change_weight(6, 5)\n",
    "unfair_die2.change_weight(1, 5)"
   ]
  },
  {
   "cell_type": "markdown",
   "id": "13cebb8f-c8b7-40a2-919c-9dd94247a4a6",
   "metadata": {},
   "source": [
    "*Example display of current faces and weights for unfair_die1 and unfair_die2*"
   ]
  },
  {
   "cell_type": "code",
   "execution_count": 17,
   "id": "97fed1c9-f52b-464f-8700-976dca072141",
   "metadata": {},
   "outputs": [
    {
     "data": {
      "text/html": [
       "<div>\n",
       "<style scoped>\n",
       "    .dataframe tbody tr th:only-of-type {\n",
       "        vertical-align: middle;\n",
       "    }\n",
       "\n",
       "    .dataframe tbody tr th {\n",
       "        vertical-align: top;\n",
       "    }\n",
       "\n",
       "    .dataframe thead th {\n",
       "        text-align: right;\n",
       "    }\n",
       "</style>\n",
       "<table border=\"1\" class=\"dataframe\">\n",
       "  <thead>\n",
       "    <tr style=\"text-align: right;\">\n",
       "      <th></th>\n",
       "      <th>faces</th>\n",
       "      <th>weights</th>\n",
       "    </tr>\n",
       "  </thead>\n",
       "  <tbody>\n",
       "    <tr>\n",
       "      <th>0</th>\n",
       "      <td>1</td>\n",
       "      <td>1.0</td>\n",
       "    </tr>\n",
       "    <tr>\n",
       "      <th>1</th>\n",
       "      <td>2</td>\n",
       "      <td>1.0</td>\n",
       "    </tr>\n",
       "    <tr>\n",
       "      <th>2</th>\n",
       "      <td>3</td>\n",
       "      <td>1.0</td>\n",
       "    </tr>\n",
       "    <tr>\n",
       "      <th>3</th>\n",
       "      <td>4</td>\n",
       "      <td>1.0</td>\n",
       "    </tr>\n",
       "    <tr>\n",
       "      <th>4</th>\n",
       "      <td>5</td>\n",
       "      <td>1.0</td>\n",
       "    </tr>\n",
       "    <tr>\n",
       "      <th>5</th>\n",
       "      <td>6</td>\n",
       "      <td>5.0</td>\n",
       "    </tr>\n",
       "  </tbody>\n",
       "</table>\n",
       "</div>"
      ],
      "text/plain": [
       "   faces  weights\n",
       "0      1      1.0\n",
       "1      2      1.0\n",
       "2      3      1.0\n",
       "3      4      1.0\n",
       "4      5      1.0\n",
       "5      6      5.0"
      ]
     },
     "execution_count": 17,
     "metadata": {},
     "output_type": "execute_result"
    }
   ],
   "source": [
    "unfair_die1.current_faces_and_weights()"
   ]
  },
  {
   "cell_type": "code",
   "execution_count": 18,
   "id": "e6859988-1f79-460b-bac5-50e7810e44d6",
   "metadata": {},
   "outputs": [
    {
     "data": {
      "text/html": [
       "<div>\n",
       "<style scoped>\n",
       "    .dataframe tbody tr th:only-of-type {\n",
       "        vertical-align: middle;\n",
       "    }\n",
       "\n",
       "    .dataframe tbody tr th {\n",
       "        vertical-align: top;\n",
       "    }\n",
       "\n",
       "    .dataframe thead th {\n",
       "        text-align: right;\n",
       "    }\n",
       "</style>\n",
       "<table border=\"1\" class=\"dataframe\">\n",
       "  <thead>\n",
       "    <tr style=\"text-align: right;\">\n",
       "      <th></th>\n",
       "      <th>faces</th>\n",
       "      <th>weights</th>\n",
       "    </tr>\n",
       "  </thead>\n",
       "  <tbody>\n",
       "    <tr>\n",
       "      <th>0</th>\n",
       "      <td>1</td>\n",
       "      <td>5.0</td>\n",
       "    </tr>\n",
       "    <tr>\n",
       "      <th>1</th>\n",
       "      <td>2</td>\n",
       "      <td>1.0</td>\n",
       "    </tr>\n",
       "    <tr>\n",
       "      <th>2</th>\n",
       "      <td>3</td>\n",
       "      <td>1.0</td>\n",
       "    </tr>\n",
       "    <tr>\n",
       "      <th>3</th>\n",
       "      <td>4</td>\n",
       "      <td>1.0</td>\n",
       "    </tr>\n",
       "    <tr>\n",
       "      <th>4</th>\n",
       "      <td>5</td>\n",
       "      <td>1.0</td>\n",
       "    </tr>\n",
       "    <tr>\n",
       "      <th>5</th>\n",
       "      <td>6</td>\n",
       "      <td>1.0</td>\n",
       "    </tr>\n",
       "  </tbody>\n",
       "</table>\n",
       "</div>"
      ],
      "text/plain": [
       "   faces  weights\n",
       "0      1      5.0\n",
       "1      2      1.0\n",
       "2      3      1.0\n",
       "3      4      1.0\n",
       "4      5      1.0\n",
       "5      6      1.0"
      ]
     },
     "execution_count": 18,
     "metadata": {},
     "output_type": "execute_result"
    }
   ],
   "source": [
    "unfair_die2.current_faces_and_weights()"
   ]
  },
  {
   "cell_type": "markdown",
   "id": "182e7eef-f5f3-4657-b050-04a58eac1664",
   "metadata": {},
   "source": [
    "Play a game of 10000 rolls with 5 fair dice."
   ]
  },
  {
   "cell_type": "code",
   "execution_count": 19,
   "id": "b98ae363-2fde-41cf-8fdc-7ee374ebfc68",
   "metadata": {},
   "outputs": [],
   "source": [
    "n_rolls = 10000"
   ]
  },
  {
   "cell_type": "code",
   "execution_count": 20,
   "id": "025988bb-e926-401b-b64f-102600ec6c0e",
   "metadata": {},
   "outputs": [],
   "source": [
    "fair_game = Game([fair_die, fair_die, fair_die, fair_die, fair_die])\n",
    "fair_play = fair_game.play(n_rolls)"
   ]
  },
  {
   "cell_type": "markdown",
   "id": "e64637cb-beec-4641-bfdc-7509f9b701b5",
   "metadata": {},
   "source": [
    "Play a game of 10000 rolls with 2 unfair dice of type 1, 1 unfair die of type 2, and the rest fair dice."
   ]
  },
  {
   "cell_type": "code",
   "execution_count": 21,
   "id": "078e35d4-0667-423d-b3d5-a00f0b171678",
   "metadata": {},
   "outputs": [],
   "source": [
    "unfair_game = Game([unfair_die1, unfair_die1, unfair_die2, fair_die, fair_die])\n",
    "unfair_play = unfair_game.play(n_rolls)"
   ]
  },
  {
   "cell_type": "markdown",
   "id": "2a22d328-8cd1-4aff-910d-173a05857903",
   "metadata": {},
   "source": [
    "For each game, use an Analyzer object to determine the relative frequency of jackpots and show your results, comparing the two relative frequencies, in a simple bar chart."
   ]
  },
  {
   "cell_type": "code",
   "execution_count": 22,
   "id": "e8c983b0-7637-4d6b-b54a-6cc9a407ed55",
   "metadata": {},
   "outputs": [],
   "source": [
    "fair_analysis = Analyzer(fair_game)\n",
    "fair_analysis.jackpot()\n",
    "fair_jp_freq = fair_analysis.jackpot() / n_rolls"
   ]
  },
  {
   "cell_type": "code",
   "execution_count": 23,
   "id": "233a28be-f0bf-4ad7-b91a-9acb8ab6efa9",
   "metadata": {},
   "outputs": [],
   "source": [
    "unfair_analysis = Analyzer(unfair_game)\n",
    "unfair_analysis.jackpot()\n",
    "unfair_jp_freq = unfair_analysis.jackpot() / n_rolls"
   ]
  },
  {
   "cell_type": "code",
   "execution_count": 24,
   "id": "7218e98e-6ec0-4766-8793-5b386ce6ee24",
   "metadata": {},
   "outputs": [
    {
     "data": {
      "image/png": "[encoded data removed]",
      "text/plain": [
       "<Figure size 432x288 with 1 Axes>"
      ]
     },
     "metadata": {
      "needs_background": "light"
     },
     "output_type": "display_data"
    }
   ],
   "source": [
    "labels = ['Jackpot Frequency: Fair Dice', 'Jackpot Frequency: Unfair + Fair Dice'] \n",
    "freqs = [fair_jp_freq, unfair_jp_freq]\n",
    "\n",
    "plt.bar(labels, freqs)\n",
    "plt.show();"
   ]
  },
  {
   "cell_type": "markdown",
   "id": "0d5c5f26-4d4f-4e27-8cca-fe7f104aa109",
   "metadata": {},
   "source": [
    "Also compute 10 most frequent combinations of faces for each game. Plot each of these as bar charts."
   ]
  },
  {
   "cell_type": "code",
   "execution_count": 25,
   "id": "596f69a6-c439-4df5-b4f8-799ef083362e",
   "metadata": {},
   "outputs": [
    {
     "data": {
      "image/png": "[encoded data removed]",
      "text/plain": [
       "<Figure size 432x288 with 1 Axes>"
      ]
     },
     "metadata": {
      "needs_background": "light"
     },
     "output_type": "display_data"
    }
   ],
   "source": [
    "fair_analysis.combo()\n",
    "labels = fair_analysis.combo_df.nlargest(n=10, columns=['count'])['faces'].to_numpy()\n",
    "labels = [str(x) for x in labels]\n",
    "counts = fair_analysis.combo_df.nlargest(n=10, columns=['count'])['count'].to_numpy()\n",
    "\n",
    "plt.title('fair_analysis') \n",
    "plt.bar(labels, counts)\n",
    "plt.xticks(rotation = 45);"
   ]
  },
  {
   "cell_type": "code",
   "execution_count": 26,
   "id": "d423cdd3-eadd-48c7-8187-0e3672586d4f",
   "metadata": {},
   "outputs": [
    {
     "data": {
      "image/png": "[encoded data removed]",
      "text/plain": [
       "<Figure size 432x288 with 1 Axes>"
      ]
     },
     "metadata": {
      "needs_background": "light"
     },
     "output_type": "display_data"
    }
   ],
   "source": [
    "unfair_analysis.combo()\n",
    "labels = unfair_analysis.combo_df.nlargest(n=10, columns=['count'])['faces'].to_numpy()\n",
    "labels = [str(x) for x in labels]\n",
    "counts = unfair_analysis.combo_df.nlargest(n=10, columns=['count'])['count'].to_numpy()\n",
    "\n",
    "plt.title('unfair_analysis') \n",
    "plt.bar(labels, counts)\n",
    "plt.xticks(rotation = 45);"
   ]
  },
  {
   "cell_type": "markdown",
   "id": "1b47f5b6-188d-4d24-9c2f-687b430e6624",
   "metadata": {},
   "source": [
    "## Scenario 3"
   ]
  },
  {
   "cell_type": "markdown",
   "id": "70d1096e-95ab-4ae0-8455-fee04733eaf4",
   "metadata": {},
   "source": [
    "Create a \"die\" of letters from a to z with weights based on their frequency of usage. See Appendix for these weights."
   ]
  },
  {
   "cell_type": "code",
   "execution_count": 27,
   "id": "53907634-9271-4214-8720-5da1cc5eaa27",
   "metadata": {},
   "outputs": [],
   "source": [
    "alphabet = ['a', 'b', 'c', 'd', 'e', 'f', 'g',\n",
    "            'h', 'i', 'j', 'k', 'l', 'm', 'n', \n",
    "            'o', 'p', 'q', 'r', 's', 't', 'u',\n",
    "            'v', 'w', 'x', 'y', 'z']"
   ]
  },
  {
   "cell_type": "code",
   "execution_count": 28,
   "id": "1568c0df-183b-4abd-a863-ba9cd9120888",
   "metadata": {},
   "outputs": [],
   "source": [
    "weights = [8.4966, 2.0720, 4.5388, 3.3844, 11.1607, 1.8121, 2.4705,\n",
    "           3.0034, 7.5448, 0.1965, 1.1016, 5.4893, 3.0129, 6.6544, \n",
    "           7.1635, 3.1671, 0.1962, 7.5809, 5.7351, 6.9509, 3.6308,\n",
    "           1.0074, 1.2899, 0.2902, 1.7779, 0.2722]"
   ]
  },
  {
   "cell_type": "code",
   "execution_count": 29,
   "id": "cc7cb9cf-2d92-4223-9777-8848dbb6adc1",
   "metadata": {},
   "outputs": [],
   "source": [
    "ab_die = Die(alphabet)"
   ]
  },
  {
   "cell_type": "code",
   "execution_count": 30,
   "id": "228fc339-9fa4-47dc-b14a-7eec82e2462d",
   "metadata": {},
   "outputs": [],
   "source": [
    "for i in range(26):\n",
    "    ab_die.change_weight(alphabet[i], weights[i])"
   ]
  },
  {
   "cell_type": "code",
   "execution_count": 31,
   "id": "f47d83fe-e6b2-4cdb-a397-f111799b0478",
   "metadata": {},
   "outputs": [
    {
     "data": {
      "text/html": [
       "<div>\n",
       "<style scoped>\n",
       "    .dataframe tbody tr th:only-of-type {\n",
       "        vertical-align: middle;\n",
       "    }\n",
       "\n",
       "    .dataframe tbody tr th {\n",
       "        vertical-align: top;\n",
       "    }\n",
       "\n",
       "    .dataframe thead th {\n",
       "        text-align: right;\n",
       "    }\n",
       "</style>\n",
       "<table border=\"1\" class=\"dataframe\">\n",
       "  <thead>\n",
       "    <tr style=\"text-align: right;\">\n",
       "      <th></th>\n",
       "      <th>faces</th>\n",
       "      <th>weights</th>\n",
       "    </tr>\n",
       "  </thead>\n",
       "  <tbody>\n",
       "    <tr>\n",
       "      <th>0</th>\n",
       "      <td>a</td>\n",
       "      <td>8.4966</td>\n",
       "    </tr>\n",
       "    <tr>\n",
       "      <th>1</th>\n",
       "      <td>b</td>\n",
       "      <td>2.0720</td>\n",
       "    </tr>\n",
       "    <tr>\n",
       "      <th>2</th>\n",
       "      <td>c</td>\n",
       "      <td>4.5388</td>\n",
       "    </tr>\n",
       "    <tr>\n",
       "      <th>3</th>\n",
       "      <td>d</td>\n",
       "      <td>3.3844</td>\n",
       "    </tr>\n",
       "    <tr>\n",
       "      <th>4</th>\n",
       "      <td>e</td>\n",
       "      <td>11.1607</td>\n",
       "    </tr>\n",
       "  </tbody>\n",
       "</table>\n",
       "</div>"
      ],
      "text/plain": [
       "  faces  weights\n",
       "0     a   8.4966\n",
       "1     b   2.0720\n",
       "2     c   4.5388\n",
       "3     d   3.3844\n",
       "4     e  11.1607"
      ]
     },
     "execution_count": 31,
     "metadata": {},
     "output_type": "execute_result"
    }
   ],
   "source": [
    "ab_die.current_faces_and_weights().head()"
   ]
  },
  {
   "cell_type": "markdown",
   "id": "103a30e6-7453-4df2-97c1-dfa53a297df6",
   "metadata": {},
   "source": [
    "Play a game involving 5 of these dice with 1000 rolls."
   ]
  },
  {
   "cell_type": "code",
   "execution_count": 32,
   "id": "a75301d0-6b13-4ea7-b86c-3e673cdf58b8",
   "metadata": {},
   "outputs": [],
   "source": [
    "n_rolls = 1000"
   ]
  },
  {
   "cell_type": "code",
   "execution_count": 33,
   "id": "625bd4f0-c489-4ed4-b3a0-38ea404f9897",
   "metadata": {},
   "outputs": [],
   "source": [
    "word_game = Game([ab_die] * 5)"
   ]
  },
  {
   "cell_type": "code",
   "execution_count": 34,
   "id": "5a692b3e-8768-4e26-afe0-7e4bd6e33c79",
   "metadata": {},
   "outputs": [],
   "source": [
    "word_play = word_game.play(n_rolls)"
   ]
  },
  {
   "cell_type": "markdown",
   "id": "874281e7-8361-4e15-8191-851a8e059e90",
   "metadata": {},
   "source": [
    "How many combos can you that look like actual English words?"
   ]
  },
  {
   "cell_type": "markdown",
   "id": "9d1f63ce-a5d9-42d3-86ca-d9fdd3cd5385",
   "metadata": {},
   "source": [
    "*In order to make this slightly more thorough, I went about this by importing / downloading words from nltk.corpus. I then compared my 5 letter combinations to actual 5 letter words from nltk.corpus.*"
   ]
  },
  {
   "cell_type": "code",
   "execution_count": 35,
   "id": "46c4be98-832e-41a3-84f8-17dc8fc5d2ff",
   "metadata": {},
   "outputs": [
    {
     "name": "stderr",
     "output_type": "stream",
     "text": [
      "[nltk_data] Downloading package words to\n",
      "[nltk_data]     /Users/devinmcdonald/nltk_data...\n",
      "[nltk_data]   Package words is already up-to-date!\n"
     ]
    },
    {
     "data": {
      "text/plain": [
       "True"
      ]
     },
     "execution_count": 35,
     "metadata": {},
     "output_type": "execute_result"
    }
   ],
   "source": [
    "import nltk\n",
    "from nltk.corpus import words\n",
    "nltk.download('words')"
   ]
  },
  {
   "cell_type": "code",
   "execution_count": 36,
   "id": "24ae3072-384d-4826-9052-0c457442b7f4",
   "metadata": {},
   "outputs": [],
   "source": [
    "possible_words = []\n",
    "for i in range(len(word_game.show())):\n",
    "    letters = list(word_game.show().iloc[i])  \n",
    "    possible_word = ''.join(letters)\n",
    "    possible_words.append(possible_word) "
   ]
  },
  {
   "cell_type": "code",
   "execution_count": 37,
   "id": "f9fecb0b-fb6c-417b-ba62-445e7fc7835e",
   "metadata": {},
   "outputs": [
    {
     "data": {
      "text/plain": [
       "['taste', 'ringe', 'hanna', 'ratel', 'sheen', 'tanan']"
      ]
     },
     "execution_count": 37,
     "metadata": {},
     "output_type": "execute_result"
    }
   ],
   "source": [
    "five_letter_words = [x for x in words.words() if len(x) == 5]\n",
    "real_words = [i for i in possible_words if i in five_letter_words]\n",
    "real_words"
   ]
  },
  {
   "cell_type": "code",
   "execution_count": 38,
   "id": "0abea8ce-161c-4241-9124-792275bca589",
   "metadata": {},
   "outputs": [
    {
     "data": {
      "text/plain": [
       "0.006"
      ]
     },
     "execution_count": 38,
     "metadata": {},
     "output_type": "execute_result"
    }
   ],
   "source": [
    "real_word_frequency = len(real_words) / n_rolls\n",
    "real_word_frequency"
   ]
  },
  {
   "cell_type": "markdown",
   "id": "af8d3511-1b80-476a-a478-675d3e8e45f7",
   "metadata": {},
   "source": [
    "Based on your eye count, what is the relative frequency of these words versus the rest?"
   ]
  },
  {
   "cell_type": "markdown",
   "id": "c7fb3ca8-f177-4b80-9c36-fd9ddc07608c",
   "metadata": {},
   "source": [
    "*Based on my eye count, the relative frequency of these words versus the rest often came out to be 0.001, which is is typically less than the previouly shown method's frequency.*\n",
    "\n",
    "*However, the frequency of words that **look** like English words typically ranged from a frequency of 0.001-0.01.*"
   ]
  },
  {
   "cell_type": "markdown",
   "id": "4c233b45-4505-425f-8220-30420c1634da",
   "metadata": {},
   "source": [
    "*One can also return a random sample from possible_words using the following code:*"
   ]
  },
  {
   "cell_type": "markdown",
   "id": "3c0296f7-96f7-4277-ab83-e2b98a31f73d",
   "metadata": {},
   "source": [
    "`import random`\n",
    "\n",
    "`print([x for x in random.sample(possible_words, 50)])`"
   ]
  },
  {
   "cell_type": "markdown",
   "id": "6ced706c-19e7-4e79-b171-bfb076f822b4",
   "metadata": {},
   "source": [
    "# Directory Listing\n",
    "\n",
    "A code block that executes the following bash command: \n",
    "\n",
    "```bash\n",
    "!ls -lRF -o\n",
    "```"
   ]
  },
  {
   "cell_type": "markdown",
   "id": "fb7e9d30-4d6f-4f86-8e1f-90b44fa4a9fe",
   "metadata": {},
   "source": [
    "*I added the two periods at the end to show the entire directory listing*"
   ]
  },
  {
   "cell_type": "code",
   "execution_count": 39,
   "id": "794bbedb-3035-4a1f-8dbc-df96909e3978",
   "metadata": {},
   "outputs": [
    {
     "name": "stdout",
     "output_type": "stream",
     "text": [
      "total 328\n",
      "-rw-r--r--  1 devinmcdonald   1071 Jul 15 16:49 LICENSE\n",
      "-rw-r--r--  1 devinmcdonald   6228 Jul 15 16:49 README.md\n",
      "-rw-r--r--  1 devinmcdonald  88252 Jul 15 16:51 final-project-submission.ipynb\n",
      "-rw-r--r--  1 devinmcdonald  60351 Jul 15 16:49 scenarios.ipynb\n",
      "-rw-r--r--  1 devinmcdonald    382 Jul 15 16:49 setup.py\n",
      "drwxr-xr-x  5 devinmcdonald    160 Jul 15 16:50 \u001b[34msrc\u001b[m\u001b[m/\n",
      "drwxr-xr-x  4 devinmcdonald    128 Jul 15 16:49 \u001b[34mtests\u001b[m\u001b[m/\n",
      "\n",
      "../src:\n",
      "total 16\n",
      "-rw-r--r--  1 devinmcdonald     0 Jul 15 16:49 __init__.py\n",
      "drwxr-xr-x  3 devinmcdonald    96 Jul 15 16:50 \u001b[34m__pycache__\u001b[m\u001b[m/\n",
      "-rw-r--r--  1 devinmcdonald  7256 Jul 15 16:49 monte_carlo.py\n",
      "\n",
      "../src/__pycache__:\n",
      "total 24\n",
      "-rw-r--r--  1 devinmcdonald  8224 Jul 15 16:50 monte_carlo.cpython-37.pyc\n",
      "\n",
      "../tests:\n",
      "total 24\n",
      "-rw-r--r--  1 devinmcdonald  1622 Jul 15 16:49 test_results.txt\n",
      "-rw-r--r--  1 devinmcdonald  6618 Jul 15 16:49 unit_tests.py\n"
     ]
    }
   ],
   "source": [
    "!ls -lRF -o .."
   ]
  },
  {
   "cell_type": "markdown",
   "id": "c4df835c-3cd7-4c74-a4de-51638607680b",
   "metadata": {
    "tags": []
   },
   "source": [
    "# Installation Output Listing\n",
    "    \n",
    "A code block that executes the code to install your your package and outputs a successful installation."
   ]
  },
  {
   "cell_type": "code",
   "execution_count": 40,
   "id": "3609769a-c338-4746-8607-d124caf76ed8",
   "metadata": {},
   "outputs": [
    {
     "name": "stdout",
     "output_type": "stream",
     "text": [
      "Processing /Users/devinmcdonald/Desktop/Monte-Carlo-Simulator\n",
      "  Preparing metadata (setup.py) ... \u001b[?25ldone\n",
      "\u001b[?25hRequirement already satisfied: numpy in /Users/devinmcdonald/anaconda3/anaconda3/lib/python3.7/site-packages (from Monte-Carlo-Simulator==1.0.0) (1.21.6)\n",
      "Requirement already satisfied: pandas in /Users/devinmcdonald/anaconda3/anaconda3/lib/python3.7/site-packages (from Monte-Carlo-Simulator==1.0.0) (1.3.5)\n",
      "Requirement already satisfied: python-dateutil>=2.7.3 in /Users/devinmcdonald/anaconda3/anaconda3/lib/python3.7/site-packages (from pandas->Monte-Carlo-Simulator==1.0.0) (2.8.2)\n",
      "Requirement already satisfied: pytz>=2017.3 in /Users/devinmcdonald/anaconda3/anaconda3/lib/python3.7/site-packages (from pandas->Monte-Carlo-Simulator==1.0.0) (2022.1)\n",
      "Requirement already satisfied: six>=1.5 in /Users/devinmcdonald/anaconda3/anaconda3/lib/python3.7/site-packages (from python-dateutil>=2.7.3->pandas->Monte-Carlo-Simulator==1.0.0) (1.16.0)\n",
      "Building wheels for collected packages: Monte-Carlo-Simulator\n",
      "  Building wheel for Monte-Carlo-Simulator (setup.py) ... \u001b[?25ldone\n",
      "\u001b[?25h  Created wheel for Monte-Carlo-Simulator: filename=Monte_Carlo_Simulator-1.0.0-py3-none-any.whl size=4253 sha256=4ed9138eaea7538eaffdf0b94942883622b8216c84d0b04d8a5b9b149a78ecae\n",
      "  Stored in directory: /Users/devinmcdonald/Library/Caches/pip/wheels/f4/fe/16/ec7f0b05cdd4b60afddd071c2122fdb6b3e92ec7cb17aa1367\n",
      "Successfully built Monte-Carlo-Simulator\n",
      "Installing collected packages: Monte-Carlo-Simulator\n",
      "  Attempting uninstall: Monte-Carlo-Simulator\n",
      "    Found existing installation: Monte-Carlo-Simulator 1.0.0\n",
      "    Uninstalling Monte-Carlo-Simulator-1.0.0:\n",
      "      Successfully uninstalled Monte-Carlo-Simulator-1.0.0\n",
      "Successfully installed Monte-Carlo-Simulator-1.0.0\n"
     ]
    }
   ],
   "source": [
    "!pip install .."
   ]
  },
  {
   "cell_type": "code",
   "execution_count": null,
   "id": "203f8c7e-f4f4-423b-8df6-99bfcee6513c",
   "metadata": {},
   "outputs": [],
   "source": []
  }
 ],
 "metadata": {
  "kernelspec": {
   "display_name": "Python 3 (ipykernel)",
   "language": "python",
   "name": "python3"
  },
  "language_info": {
   "codemirror_mode": {
    "name": "ipython",
    "version": 3
   },
   "file_extension": ".py",
   "mimetype": "text/x-python",
   "name": "python",
   "nbconvert_exporter": "python",
   "pygments_lexer": "ipython3",
   "version": "3.7.12"
  },
  "widgets": {
   "application/vnd.jupyter.widget-state+json": {
    "state": {},
    "version_major": 2,
    "version_minor": 0
   }
  }
 },
 "nbformat": 4,
 "nbformat_minor": 5
}
